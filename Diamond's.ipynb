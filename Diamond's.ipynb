{
 "cells": [
  {
   "cell_type": "markdown",
   "metadata": {},
   "source": [
    "# Diamonds Reviews 💎"
   ]
  },
  {
   "cell_type": "markdown",
   "metadata": {},
   "source": [
    "We have a dataframe of Diamonds,we will import it in our jupiter notebook and find all insight from it "
   ]
  },
  {
   "cell_type": "markdown",
   "metadata": {},
   "source": [
    "Importing all Library Pandas,Numpy,Matplotlib,Seaborn.\n"
   ]
  },
  {
   "cell_type": "code",
   "execution_count": null,
   "metadata": {},
   "outputs": [],
   "source": [
    "import pandas as pd # For Data Processing & manipulation.\n",
    "\n",
    "import matplotlib.pyplot as plt # for Liner Algebra.\n",
    "\n",
    "import numpy as np # For Visualization. \n",
    "\n",
    "import seaborn as sns # For Visualization. "
   ]
  },
  {
   "cell_type": "code",
   "execution_count": null,
   "metadata": {},
   "outputs": [],
   "source": [
    "# Importing the dataframe from folder path.\n",
    "\n",
    "Diamonds = pd.read_csv(\"H:\\Profesional books\\Data Science Course\\Dcoder\\Data Sets\\Diamonds.csv\")"
   ]
  },
  {
   "cell_type": "code",
   "execution_count": null,
   "metadata": {},
   "outputs": [],
   "source": [
    "# Reading the dataframe.\n",
    "\n",
    "Diamonds.head(5)"
   ]
  },
  {
   "cell_type": "code",
   "execution_count": null,
   "metadata": {},
   "outputs": [],
   "source": [
    "# inspecting the dataframe.\n",
    "\n",
    "\n",
    "Diamonds.shape"
   ]
  },
  {
   "cell_type": "code",
   "execution_count": null,
   "metadata": {},
   "outputs": [],
   "source": [
    "# Checking the info of the dataframe. \n",
    "\n",
    "Diamonds.info()"
   ]
  },
  {
   "cell_type": "code",
   "execution_count": null,
   "metadata": {},
   "outputs": [],
   "source": [
    "# cheking the uniqueness of the data which are in string format. \n",
    "# If we crealy see data related to cut,color,clarity are in string format and they are repetetive\n",
    "# in nature,hence we need to convert them into int:format for further analysis. \n",
    "\n",
    "print ('cut',Diamonds['cut'].unique())\n",
    "print ('color',Diamonds['color'].unique())\n",
    "print ('clarity ',Diamonds['clarity'].unique())"
   ]
  },
  {
   "cell_type": "code",
   "execution_count": null,
   "metadata": {},
   "outputs": [],
   "source": [
    "# Creating the String data as dict: by giving unique key in integer format as they are \n",
    "# in string format for further analysis. \n",
    "\n",
    "cut_vals={'Fair':1,'Good':2,'Very Good':3,'Premium':4,'Ideal':5}\n",
    "color_vals= {'J':1, 'I':2, 'H':3, 'G':4, 'F':5, 'E':6, 'D':7}\n",
    "clarity_vals={'I1':1,'SI2':2,'SI1':3,'VS2':4,'VS1':5,'VVS2':6,'VVS1':7,'IF':8}"
   ]
  },
  {
   "cell_type": "code",
   "execution_count": null,
   "metadata": {},
   "outputs": [],
   "source": [
    "# Assinging the unique dict key(Which are in intiger format) to the orignal, \n",
    "# data in the dataframe which we having in String format.\n",
    "\n",
    "Diamonds['cut']=Diamonds['cut'].map(cut_vals)\n",
    "Diamonds['color']=Diamonds['color'].map(color_vals)\n",
    "Diamonds['clarity']=Diamonds['clarity'].map(clarity_vals)"
   ]
  },
  {
   "cell_type": "code",
   "execution_count": null,
   "metadata": {},
   "outputs": [],
   "source": [
    "# As we can clearly see that data got change into integer. \n",
    "\n",
    "print('cut', Diamonds['cut'].unique())\n",
    "print('color', Diamonds['color'].unique())\n",
    "print('clarity', Diamonds['clarity'].unique())"
   ]
  },
  {
   "cell_type": "code",
   "execution_count": null,
   "metadata": {},
   "outputs": [],
   "source": [
    "# Visualizing the in bar plot"
   ]
  },
  {
   "cell_type": "code",
   "execution_count": null,
   "metadata": {},
   "outputs": [],
   "source": [
    "\n",
    "fig = plt.figure(figsize = (20, 10))\n",
    "\n",
    "\n",
    "ax_1 = fig.add_subplot(3, 3, 1)\n",
    "ax_2 = fig.add_subplot(3, 3, 2)\n",
    "ax_3 = fig.add_subplot(3, 3, 3)\n",
    "ax_4 = fig.add_subplot(3, 3, 4)\n",
    "ax_5 = fig.add_subplot(3, 3, 5)\n",
    "ax_6 = fig.add_subplot(3, 3, 6)\n",
    "ax_7 = fig.add_subplot(3, 3, 7)\n",
    "ax_8 = fig.add_subplot(3, 3, 8)\n",
    "ax_9 = fig.add_subplot(3, 3, 9)\n",
    "\n",
    "\n",
    "sns.barplot(data = Diamonds, x = \"carat\", y = \"price\", ax = ax_1) # comparing the price of Diamond with carat.\n",
    "sns.barplot(data = Diamonds, x = \"cut\", y = \"price\", ax = ax_2) # comparing the price of Diamond with Cut.\n",
    "sns.barplot(data = Diamonds, x = \"color\", y = \"price\", ax = ax_3)# comparing the price of Diamond with Color.\n",
    "sns.barplot(data = Diamonds, x = \"clarity\", y = \"price\", ax = ax_4)## comparing the price of Diamond with clarity.\n",
    "sns.barplot(data = Diamonds, x = \"depth\", y = \"price\", ax = ax_5)# comparing the price of Diamond with Depth.\n",
    "sns.barplot(data = Diamonds, x = \"table\", y = \"price\", ax = ax_6)# comparing the price of Diamond with Table.\n",
    "sns.barplot(data = Diamonds, x = \"x\", y = \"price\", ax = ax_7)# comparing the price of Diamond with X.\n",
    "sns.barplot(data = Diamonds, x = \"y\", y = \"price\", ax = ax_8)# comparing the price of Diamond with y.\n",
    "sns.barplot(data = Diamonds, x = \"z\", y = \"price\", ax = ax_9)# comparing the price of Diamond with Z.\n",
    "\n",
    "plt.show()"
   ]
  },
  {
   "cell_type": "markdown",
   "metadata": {},
   "source": [
    "Inferences 1: As the size of the Diamonds in carat increase price of the Diamonds also increasing (⬆)\n",
    "\n",
    "Inferences 2: As the color of the Diamonds numeric value increase price of the Diamonds getting decrease(⬇)\n",
    "    "
   ]
  },
  {
   "cell_type": "code",
   "execution_count": null,
   "metadata": {},
   "outputs": [],
   "source": [
    "fig = plt.figure(figsize = (20, 10))\n",
    "\n",
    "ax_1 = fig.add_subplot(3, 3, 1)\n",
    "ax_2 = fig.add_subplot(3, 3, 2)\n",
    "ax_3 = fig.add_subplot(3, 3, 3)\n",
    "ax_4 = fig.add_subplot(3, 3, 4)\n",
    "ax_5 = fig.add_subplot(3, 3, 5)\n",
    "ax_6 = fig.add_subplot(3, 3, 6)\n",
    "ax_7 = fig.add_subplot(3, 3, 7)\n",
    "ax_8 = fig.add_subplot(3, 3, 8)\n",
    "ax_9 = fig.add_subplot(3, 3, 9)\n",
    "\n",
    "sns.lineplot(data = Diamonds, x = \"carat\", y = \"price\", ax = ax_1)\n",
    "sns.lineplot(data = Diamonds, x = \"cut\", y = \"price\", ax = ax_2)\n",
    "sns.lineplot(data = Diamonds, x = \"color\", y = \"price\", ax = ax_3)\n",
    "sns.lineplot(data = Diamonds, x = \"clarity\", y = \"price\", ax = ax_4)\n",
    "sns.lineplot(data = Diamonds, x = \"depth\", y = \"price\", ax = ax_5)\n",
    "sns.lineplot(data = Diamonds, x = \"table\", y = \"price\", ax = ax_6)\n",
    "sns.lineplot(data = Diamonds, x = \"x\", y = \"price\", ax = ax_7)\n",
    "sns.lineplot(data = Diamonds, x = \"y\", y = \"price\", ax = ax_8)\n",
    "sns.lineplot(data = Diamonds, x = \"z\", y = \"price\", ax = ax_9)\n",
    "\n",
    "plt.show()"
   ]
  },
  {
   "cell_type": "markdown",
   "metadata": {},
   "source": [
    "Inferences 1: As we can see the price of diamonds is stable from 2 to 3 cut\n",
    "as the no.cut increase from 3 to 4 the price also getting increase as the cut increase (⬆) from 4 to 4.1 price of Diamonds started getting decreasing \n",
    "hence we may also conclude that no of cut on diamonds leads to small in size of diamonds. and hence the price getting decrease. "
   ]
  },
  {
   "cell_type": "code",
   "execution_count": null,
   "metadata": {},
   "outputs": [],
   "source": []
  },
  {
   "cell_type": "code",
   "execution_count": null,
   "metadata": {},
   "outputs": [],
   "source": [
    "\n",
    "fig=plt.figure(figsize=(15,10))\n",
    "sns.heatmap(data=Diamonds.corr(),annot=True)\n",
    "plt.show()"
   ]
  },
  {
   "cell_type": "code",
   "execution_count": null,
   "metadata": {},
   "outputs": [],
   "source": [
    "\n",
    "\n",
    "\n",
    "# Checking the numeric columns of the dataframe\n",
    "\n",
    "Diamonds.describe()\n"
   ]
  },
  {
   "cell_type": "code",
   "execution_count": null,
   "metadata": {},
   "outputs": [],
   "source": [
    "# Top costly Diamonds \n",
    "\n",
    "Costly_Diamonds = Diamonds.sort_values(by='price',ascending=False)\n",
    "Costly_Diamonds"
   ]
  },
  {
   "cell_type": "code",
   "execution_count": null,
   "metadata": {},
   "outputs": [],
   "source": []
  },
  {
   "cell_type": "code",
   "execution_count": null,
   "metadata": {},
   "outputs": [],
   "source": [
    "# Top Ten Costly Diamonds. \n",
    "\n",
    "Costly_Diamonds.iloc[:10]"
   ]
  },
  {
   "cell_type": "code",
   "execution_count": null,
   "metadata": {},
   "outputs": [],
   "source": []
  },
  {
   "cell_type": "code",
   "execution_count": null,
   "metadata": {},
   "outputs": [],
   "source": []
  }
 ],
 "metadata": {
  "kernelspec": {
   "display_name": "Python 3",
   "language": "python",
   "name": "python3"
  },
  "language_info": {
   "codemirror_mode": {
    "name": "ipython",
    "version": 3
   },
   "file_extension": ".py",
   "mimetype": "text/x-python",
   "name": "python",
   "nbconvert_exporter": "python",
   "pygments_lexer": "ipython3",
   "version": "3.8.3"
  }
 },
 "nbformat": 4,
 "nbformat_minor": 4
}
